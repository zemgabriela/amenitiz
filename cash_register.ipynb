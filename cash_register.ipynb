{
 "cells": [
  {
   "cell_type": "code",
   "execution_count": 57,
   "metadata": {},
   "outputs": [],
   "source": [
    "from collections import Counter\n",
    "\n",
    "#functions\n",
    "\n",
    "# buy product a -> x get one for y % of the price (examples: 2 and the third would be 50%, 1 and the second would be 100%)\n",
    "# CEO: GR1 + GR1 = 3.11 + 0\n",
    "# COO: SR1 + SR1 + SR1 = 4.50 + 4.50 + 4.50\n",
    "# VP: 11.23 + 11.23 + 11.23 = 11.23 x 3/2 + 11.23 x 3/2 + 11.23 x 3/2\n",
    "\n",
    "# Three cases: \n",
    "# case 1: after x amount get y for free (here you have to use mod I think)\n",
    "# case 2: after x amount each price changes to given price y.\n",
    "# case 3: after x amount each price changes by a friction of original price.\n",
    "\n",
    "\n",
    "# case 1\n",
    "\n",
    "def free_product_included(discount_dict, count_occurances, promo_amount = 1, promo_free = 1):\n",
    "    \n",
    "    discount_product_list = [product for product, discount in discount_dict.items() if discount == \"free_product_included\"]\n",
    "    must_pay_quantities = count_occurances.copy()\n",
    "\n",
    "    for discount_product in discount_product_list:\n",
    "        if discount_product in count_occurances:\n",
    "            free_items = (count_occurances[discount_product] // (promo_amount + promo_free)) * promo_free\n",
    "            must_pay_quantities[discount_product] = count_occurances[discount_product] - free_items\n",
    "\n",
    "    return must_pay_quantities"
   ]
  },
  {
   "cell_type": "code",
   "execution_count": 64,
   "metadata": {},
   "outputs": [
    {
     "name": "stderr",
     "output_type": "stream",
     "text": [
      "....\n",
      "----------------------------------------------------------------------\n",
      "Ran 4 tests in 0.003s\n",
      "\n",
      "OK\n"
     ]
    }
   ],
   "source": [
    "# tests for case 1\n",
    "import unittest\n",
    "\n",
    "class TestFreeProductIncluded(unittest.TestCase):\n",
    "    \n",
    "    def test_buy_1_get_1_free(self):\n",
    "        final_cashier_list = ['GR1', 'GR1', 'GR1', 'GR1', 'GR1', 'SR1']\n",
    "        count_occurances = dict(Counter(final_cashier_list))\n",
    "        global discount_dict \n",
    "        discount_dict = {\"GR1\": \"free_product_included\"} \n",
    "        self.assertEqual(free_product_included(count_occurances, 1, 1), {'GR1': 3, 'SR1': 1})\n",
    "\n",
    "    def test_buy_2_get_1_free(self):\n",
    "        final_cashier_list = ['GR1', 'GR1', 'GR1', 'GR1', 'GR1', 'SR1']\n",
    "        count_occurances = dict(Counter(final_cashier_list))\n",
    "        global discount_dict\n",
    "        discount_dict = {\"GR1\": \"free_product_included\"} \n",
    "        self.assertEqual(free_product_included(count_occurances, 2, 1), {'GR1': 4, 'SR1': 1})\n",
    "\n",
    "    def test_buy_5_get_1_free(self):\n",
    "        final_cashier_list = ['GR1', 'GR1', 'GR1', 'GR1', 'GR1', 'SR1']\n",
    "        count_occurances = dict(Counter(final_cashier_list))\n",
    "        global discount_dict\n",
    "        discount_dict = {\"GR1\": \"free_product_included\"} \n",
    "        self.assertEqual(free_product_included(count_occurances, 5, 1), {'GR1': 5, 'SR1': 1})\n",
    "\n",
    "    def test_product_not_in_list(self):\n",
    "        final_cashier_list = ['SR1']\n",
    "        count_occurances = dict(Counter(final_cashier_list))\n",
    "        global discount_dict\n",
    "        discount_dict = {\"GR1\": \"free_product_included\"} \n",
    "        self.assertEqual(free_product_included(count_occurances, 5, 1), {'SR1': 1})\n",
    "\n",
    "if __name__ == '__main__':\n",
    "    unittest.main(argv=['first-arg-is-ignored'], exit=False)"
   ]
  },
  {
   "cell_type": "code",
   "execution_count": null,
   "metadata": {},
   "outputs": [],
   "source": []
  }
 ],
 "metadata": {
  "kernelspec": {
   "display_name": "bd_assignment1_env",
   "language": "python",
   "name": "python3"
  },
  "language_info": {
   "codemirror_mode": {
    "name": "ipython",
    "version": 3
   },
   "file_extension": ".py",
   "mimetype": "text/x-python",
   "name": "python",
   "nbconvert_exporter": "python",
   "pygments_lexer": "ipython3",
   "version": "3.9.19"
  },
  "orig_nbformat": 4
 },
 "nbformat": 4,
 "nbformat_minor": 2
}
